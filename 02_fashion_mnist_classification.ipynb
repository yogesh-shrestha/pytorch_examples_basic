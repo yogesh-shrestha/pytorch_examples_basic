{
 "cells": [
  {
   "cell_type": "markdown",
   "metadata": {},
   "source": [
    "## Fashion-MNIST Classification"
   ]
  },
  {
   "cell_type": "code",
   "execution_count": 2,
   "metadata": {},
   "outputs": [],
   "source": [
    "import torch\n",
    "import torchvision\n",
    "import torch.nn as nn\n",
    "import torchsummary\n",
    "from torch.utils.tensorboard import SummaryWriter\n",
    "import matplotlib.pyplot as plt\n",
    "import os\n",
    "os.environ['KMP_DUPLICATE_LIB_OK']='True'\n",
    "\n",
    "# if GPU is available use GPU\n",
    "device = torch.device('cuda' if torch.cuda.is_available() else 'cpu')"
   ]
  },
  {
   "cell_type": "markdown",
   "metadata": {},
   "source": [
    "### Load Dataset"
   ]
  },
  {
   "cell_type": "code",
   "execution_count": 3,
   "metadata": {},
   "outputs": [
    {
     "name": "stdout",
     "output_type": "stream",
     "text": [
      "Number of train samples: 60000\n",
      "Number of test samples: 10000\n"
     ]
    },
    {
     "name": "stderr",
     "output_type": "stream",
     "text": [
      "C:\\Users\\shres\\anaconda3\\lib\\site-packages\\torchvision\\datasets\\mnist.py:498: UserWarning: The given NumPy array is not writeable, and PyTorch does not support non-writeable tensors. This means you can write to the underlying (supposedly non-writeable) NumPy array using the tensor. You may want to copy the array to protect its data or make it writeable before converting it to a tensor. This type of warning will be suppressed for the rest of this program. (Triggered internally at  ..\\torch\\csrc\\utils\\tensor_numpy.cpp:180.)\n",
      "  return torch.from_numpy(parsed.astype(m[2], copy=False)).view(*s)\n"
     ]
    }
   ],
   "source": [
    "train_dataset = torchvision.datasets.FashionMNIST(root=\"./data\",\n",
    "                                         train=True,\n",
    "                                         transform=torchvision.transforms.ToTensor(),\n",
    "                                         download=True,\n",
    "                                         )\n",
    "test_dataset = torchvision.datasets.FashionMNIST(root=\"./data\",\n",
    "                                         train=False,\n",
    "                                         transform=torchvision.transforms.ToTensor(),\n",
    "                                         download=True)\n",
    "\n",
    "train_dataloader = torch.utils.data.DataLoader(dataset=train_dataset,\n",
    "                                              batch_size=64,\n",
    "                                              shuffle=True)\n",
    "test_dataloader = torch.utils.data.DataLoader(dataset=test_dataset,\n",
    "                                              batch_size=64,\n",
    "                                              shuffle=True)\n",
    "\n",
    "print(f'Number of train samples: {len(train_dataset)}')\n",
    "print(f'Number of test samples: {len(test_dataset)}')"
   ]
  },
  {
   "cell_type": "markdown",
   "metadata": {},
   "source": [
    "### Visualize Dataset"
   ]
  },
  {
   "cell_type": "code",
   "execution_count": 4,
   "metadata": {},
   "outputs": [
    {
     "data": {
      "image/png": "[encoded data removed]",
      "text/plain": [
       "<Figure size 864x864 with 12 Axes>"
      ]
     },
     "metadata": {
      "needs_background": "light"
     },
     "output_type": "display_data"
    }
   ],
   "source": [
    "figure = plt.figure(figsize=(12,12))\n",
    "n_rows, n_cols = 3, 4\n",
    "\n",
    "for i in range(1, n_rows*n_cols + 1):\n",
    "    # choose a samle index randomly\n",
    "    sample_idx = torch.randint(len(train_dataset), size=(1,)).item()\n",
    "    image, label = train_dataset[sample_idx]\n",
    "    figure.add_subplot(n_rows, n_cols, i)\n",
    "    plt.title(label)\n",
    "    plt.imshow(image.squeeze(), cmap='gray')\n",
    "    plt.axis('off')\n",
    "plt.show()"
   ]
  },
  {
   "cell_type": "markdown",
   "metadata": {},
   "source": [
    "### Define Model"
   ]
  },
  {
   "cell_type": "code",
   "execution_count": 7,
   "metadata": {},
   "outputs": [],
   "source": [
    "class FashionMNISTClassifier(nn.Module):\n",
    "    def __init__(self, input_size, hidden_size, n_classes):\n",
    "        super(FashionMNISTClassifier, self).__init__()\n",
    "        self.flatten = nn.Flatten()\n",
    "        self.linear_layer_1 = nn.Linear(input_size, hidden_size)\n",
    "        self.relu = nn.ReLU()\n",
    "        self.linear_layer_2 = nn.Linear(hidden_size, n_classes)\n",
    "        self.softmax = nn.Softmax(dim=1)\n",
    "                \n",
    "    def forward(self, X):\n",
    "        out = self.flatten(X)\n",
    "        out = self.linear_layer_1(out)\n",
    "        out = self.relu(out)\n",
    "        out = self.linear_layer_2(out)\n",
    "        out = self.softmax(out)\n",
    "        return out\n",
    "    \n",
    "# Hyperparaters to build model\n",
    "input_size = 784\n",
    "hidden_size = 256\n",
    "num_classes = 10\n",
    "\n",
    "fashion_mnist_classifier = FashionMNISTClassifier(input_size, hidden_size, num_classes).to(device)"
   ]
  },
  {
   "cell_type": "code",
   "execution_count": 8,
   "metadata": {},
   "outputs": [
    {
     "name": "stdout",
     "output_type": "stream",
     "text": [
      "----------------------------------------------------------------\n",
      "        Layer (type)               Output Shape         Param #\n",
      "================================================================\n",
      "           Flatten-1                  [-1, 784]               0\n",
      "            Linear-2                  [-1, 256]         200,960\n",
      "              ReLU-3                  [-1, 256]               0\n",
      "            Linear-4                   [-1, 10]           2,570\n",
      "           Softmax-5                   [-1, 10]               0\n",
      "================================================================\n",
      "Total params: 203,530\n",
      "Trainable params: 203,530\n",
      "Non-trainable params: 0\n",
      "----------------------------------------------------------------\n",
      "Input size (MB): 0.00\n",
      "Forward/backward pass size (MB): 0.01\n",
      "Params size (MB): 0.78\n",
      "Estimated Total Size (MB): 0.79\n",
      "----------------------------------------------------------------\n"
     ]
    }
   ],
   "source": [
    "# summary of the model\n",
    "\n",
    "torchsummary.summary(fashion_mnist_classifier, input_size=(784,))"
   ]
  },
  {
   "cell_type": "markdown",
   "metadata": {},
   "source": [
    "### Train the Model"
   ]
  },
  {
   "cell_type": "code",
   "execution_count": 9,
   "metadata": {},
   "outputs": [
    {
     "name": "stdout",
     "output_type": "stream",
     "text": [
      "Epoch: 1-------------------------------\n",
      "train_accuracy: 73.8%, train_loss: 1.662305\n",
      "val_accuracy: 77.4%, val_loss: 1.688491\n",
      "Epoch: 2-------------------------------\n",
      "train_accuracy: 78.8%, train_loss: 1.803070\n",
      "val_accuracy: 77.9%, val_loss: 1.681498\n",
      "Epoch: 3-------------------------------\n",
      "train_accuracy: 79.8%, train_loss: 1.603367\n",
      "val_accuracy: 79.1%, val_loss: 1.671945\n",
      "Epoch: 4-------------------------------\n",
      "train_accuracy: 80.5%, train_loss: 1.585175\n",
      "val_accuracy: 79.7%, val_loss: 1.665066\n",
      "Epoch: 5-------------------------------\n",
      "train_accuracy: 81.0%, train_loss: 1.627229\n",
      "val_accuracy: 79.3%, val_loss: 1.668704\n",
      "Epoch: 6-------------------------------\n",
      "train_accuracy: 81.2%, train_loss: 1.625507\n",
      "val_accuracy: 80.3%, val_loss: 1.659352\n",
      "Epoch: 7-------------------------------\n",
      "train_accuracy: 81.5%, train_loss: 1.659106\n",
      "val_accuracy: 81.0%, val_loss: 1.652027\n",
      "Epoch: 8-------------------------------\n",
      "train_accuracy: 81.7%, train_loss: 1.573009\n",
      "val_accuracy: 80.7%, val_loss: 1.654704\n",
      "Epoch: 9-------------------------------\n",
      "train_accuracy: 81.9%, train_loss: 1.699264\n",
      "val_accuracy: 80.6%, val_loss: 1.654845\n",
      "Epoch: 10-------------------------------\n",
      "train_accuracy: 82.1%, train_loss: 1.660117\n",
      "val_accuracy: 80.3%, val_loss: 1.658737\n",
      "Epoch: 11-------------------------------\n",
      "train_accuracy: 82.4%, train_loss: 1.712058\n",
      "val_accuracy: 80.1%, val_loss: 1.659413\n",
      "Epoch: 12-------------------------------\n",
      "train_accuracy: 82.6%, train_loss: 1.621289\n",
      "val_accuracy: 80.7%, val_loss: 1.653300\n",
      "Epoch: 13-------------------------------\n",
      "train_accuracy: 84.4%, train_loss: 1.527897\n",
      "val_accuracy: 85.3%, val_loss: 1.607734\n",
      "Epoch: 14-------------------------------\n",
      "train_accuracy: 88.4%, train_loss: 1.584434\n",
      "val_accuracy: 86.4%, val_loss: 1.595869\n",
      "Epoch: 15-------------------------------\n",
      "train_accuracy: 88.9%, train_loss: 1.497974\n",
      "val_accuracy: 87.3%, val_loss: 1.588429\n",
      "Epoch: 16-------------------------------\n",
      "train_accuracy: 89.4%, train_loss: 1.556131\n",
      "val_accuracy: 86.8%, val_loss: 1.593595\n",
      "Epoch: 17-------------------------------\n",
      "train_accuracy: 89.6%, train_loss: 1.522298\n",
      "val_accuracy: 87.1%, val_loss: 1.590576\n",
      "Epoch: 18-------------------------------\n",
      "train_accuracy: 89.9%, train_loss: 1.624598\n",
      "val_accuracy: 88.1%, val_loss: 1.581982\n",
      "Epoch: 19-------------------------------\n",
      "train_accuracy: 90.0%, train_loss: 1.549411\n",
      "val_accuracy: 87.8%, val_loss: 1.583817\n",
      "Epoch: 20-------------------------------\n",
      "train_accuracy: 90.3%, train_loss: 1.523883\n",
      "val_accuracy: 88.0%, val_loss: 1.581075\n",
      "Epoch: 21-------------------------------\n",
      "train_accuracy: 90.4%, train_loss: 1.587524\n",
      "val_accuracy: 87.3%, val_loss: 1.588126\n",
      "Epoch: 22-------------------------------\n",
      "train_accuracy: 90.6%, train_loss: 1.721952\n",
      "val_accuracy: 87.1%, val_loss: 1.589562\n",
      "Epoch: 23-------------------------------\n",
      "train_accuracy: 90.5%, train_loss: 1.583773\n",
      "val_accuracy: 87.5%, val_loss: 1.587013\n",
      "Epoch: 24-------------------------------\n",
      "train_accuracy: 90.7%, train_loss: 1.556003\n",
      "val_accuracy: 88.1%, val_loss: 1.580688\n",
      "Epoch: 25-------------------------------\n",
      "train_accuracy: 90.9%, train_loss: 1.507683\n",
      "val_accuracy: 87.8%, val_loss: 1.583091\n",
      "Epoch: 26-------------------------------\n",
      "train_accuracy: 91.0%, train_loss: 1.633479\n",
      "val_accuracy: 88.1%, val_loss: 1.580412\n",
      "Epoch: 27-------------------------------\n",
      "train_accuracy: 91.1%, train_loss: 1.595713\n",
      "val_accuracy: 87.8%, val_loss: 1.582473\n",
      "Epoch: 28-------------------------------\n",
      "train_accuracy: 91.2%, train_loss: 1.493385\n",
      "val_accuracy: 87.0%, val_loss: 1.590628\n",
      "Epoch: 29-------------------------------\n",
      "train_accuracy: 91.3%, train_loss: 1.562985\n",
      "val_accuracy: 87.6%, val_loss: 1.586010\n",
      "Epoch: 30-------------------------------\n",
      "train_accuracy: 91.3%, train_loss: 1.655812\n",
      "val_accuracy: 87.5%, val_loss: 1.585917\n",
      "Done!\n"
     ]
    }
   ],
   "source": [
    "# Loss and optimizer\n",
    "loss_fn = nn.CrossEntropyLoss()\n",
    "optimizer = torch.optim.Adam(fashion_mnist_classifier.parameters())\n",
    "\n",
    "def train_loop(dataloader, model, loss_fn, optimizer):\n",
    "    size = len(dataloader.dataset)\n",
    "    n_correct, loss = 0, 0.0\n",
    "    for batch, (images, labels) in enumerate(dataloader):\n",
    "        images = images.to(device)\n",
    "        labels = labels.to(device)      \n",
    "        pred_labels = model(images)\n",
    "        loss = loss_fn(pred_labels, labels)      \n",
    "        # Backprpagation\n",
    "        optimizer.zero_grad()\n",
    "        loss.backward()\n",
    "        optimizer.step()\n",
    "        loss = loss.item()\n",
    "        n_correct += (pred_labels.argmax(dim=1) == labels).sum().item()\n",
    "    accuracy = 100*n_correct/size\n",
    "    print(f\"train_accuracy: {accuracy:>0.1f}%, train_loss: {loss:>8f}\") \n",
    "            \n",
    "def validation_loop(dataloader, model, loss_fn):\n",
    "    size = len(dataloader.dataset)\n",
    "    num_batches = len(dataloader)\n",
    "    val_loss, n_correct = 0, 0\n",
    "    with torch.no_grad():\n",
    "        for images, labels in dataloader:\n",
    "            images = images.to(device)\n",
    "            labels = labels.to(device)\n",
    "            pred_labels = model(images)\n",
    "            val_loss += loss_fn(pred_labels, labels).item()\n",
    "            n_correct += (pred_labels.argmax(dim=1) == labels).sum().item()\n",
    "    val_loss /= num_batches\n",
    "    val_accuracy = 100*n_correct/size\n",
    "    print(f\"val_accuracy: {val_accuracy:>0.1f}%, val_loss: {val_loss:>8f}\")\n",
    "            \n",
    "    \n",
    "            \n",
    "epochs = 30          \n",
    "for t in range(epochs):\n",
    "    print(f\"Epoch: {t+1}-------------------------------\")\n",
    "    train_loop(train_dataloader, fashion_mnist_classifier, loss_fn, optimizer)\n",
    "    validation_loop(test_dataloader, fashion_mnist_classifier, loss_fn)\n",
    "print(\"Done!\")"
   ]
  },
  {
   "cell_type": "code",
   "execution_count": null,
   "metadata": {},
   "outputs": [],
   "source": []
  }
 ],
 "metadata": {
  "kernelspec": {
   "display_name": "Python 3",
   "language": "python",
   "name": "python3"
  },
  "language_info": {
   "codemirror_mode": {
    "name": "ipython",
    "version": 3
   },
   "file_extension": ".py",
   "mimetype": "text/x-python",
   "name": "python",
   "nbconvert_exporter": "python",
   "pygments_lexer": "ipython3",
   "version": "3.8.5"
  }
 },
 "nbformat": 4,
 "nbformat_minor": 4
}
