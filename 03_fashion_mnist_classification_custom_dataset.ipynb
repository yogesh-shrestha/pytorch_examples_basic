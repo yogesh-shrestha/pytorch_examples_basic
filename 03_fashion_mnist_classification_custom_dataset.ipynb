{
 "cells": [
  {
   "cell_type": "markdown",
   "metadata": {},
   "source": [
    "## Fashion MNIST Classification with Custom Datasets"
   ]
  },
  {
   "cell_type": "code",
   "execution_count": 1,
   "metadata": {},
   "outputs": [],
   "source": [
    "import pandas as pd\n",
    "import torch \n",
    "import torch.nn as nn\n",
    "from torch.utils.data import Dataset, DataLoader\n",
    "import torchsummary\n",
    "import matplotlib.pyplot as plt\n",
    "import os\n",
    "os.environ['KMP_DUPLICATE_LIB_OK']='True'\n",
    "\n",
    "# if GPU is available use GPU\n",
    "device = torch.device('cuda' if torch.cuda.is_available() else 'cpu')"
   ]
  },
  {
   "cell_type": "markdown",
   "metadata": {},
   "source": [
    "The given train and dataset has 785 columns. The first column contains the labels and the rest of \n",
    "columns has the pixel values."
   ]
  },
  {
   "cell_type": "code",
   "execution_count": 2,
   "metadata": {},
   "outputs": [
    {
     "data": {
      "text/html": [
       "<div>\n",
       "<style scoped>\n",
       "    .dataframe tbody tr th:only-of-type {\n",
       "        vertical-align: middle;\n",
       "    }\n",
       "\n",
       "    .dataframe tbody tr th {\n",
       "        vertical-align: top;\n",
       "    }\n",
       "\n",
       "    .dataframe thead th {\n",
       "        text-align: right;\n",
       "    }\n",
       "</style>\n",
       "<table border=\"1\" class=\"dataframe\">\n",
       "  <thead>\n",
       "    <tr style=\"text-align: right;\">\n",
       "      <th></th>\n",
       "      <th>label</th>\n",
       "      <th>pixel1</th>\n",
       "      <th>pixel2</th>\n",
       "      <th>pixel3</th>\n",
       "      <th>pixel4</th>\n",
       "      <th>pixel5</th>\n",
       "      <th>pixel6</th>\n",
       "      <th>pixel7</th>\n",
       "      <th>pixel8</th>\n",
       "      <th>pixel9</th>\n",
       "      <th>...</th>\n",
       "      <th>pixel775</th>\n",
       "      <th>pixel776</th>\n",
       "      <th>pixel777</th>\n",
       "      <th>pixel778</th>\n",
       "      <th>pixel779</th>\n",
       "      <th>pixel780</th>\n",
       "      <th>pixel781</th>\n",
       "      <th>pixel782</th>\n",
       "      <th>pixel783</th>\n",
       "      <th>pixel784</th>\n",
       "    </tr>\n",
       "  </thead>\n",
       "  <tbody>\n",
       "    <tr>\n",
       "      <th>0</th>\n",
       "      <td>2</td>\n",
       "      <td>0</td>\n",
       "      <td>0</td>\n",
       "      <td>0</td>\n",
       "      <td>0</td>\n",
       "      <td>0</td>\n",
       "      <td>0</td>\n",
       "      <td>0</td>\n",
       "      <td>0</td>\n",
       "      <td>0</td>\n",
       "      <td>...</td>\n",
       "      <td>0</td>\n",
       "      <td>0</td>\n",
       "      <td>0</td>\n",
       "      <td>0</td>\n",
       "      <td>0</td>\n",
       "      <td>0</td>\n",
       "      <td>0</td>\n",
       "      <td>0</td>\n",
       "      <td>0</td>\n",
       "      <td>0</td>\n",
       "    </tr>\n",
       "    <tr>\n",
       "      <th>1</th>\n",
       "      <td>9</td>\n",
       "      <td>0</td>\n",
       "      <td>0</td>\n",
       "      <td>0</td>\n",
       "      <td>0</td>\n",
       "      <td>0</td>\n",
       "      <td>0</td>\n",
       "      <td>0</td>\n",
       "      <td>0</td>\n",
       "      <td>0</td>\n",
       "      <td>...</td>\n",
       "      <td>0</td>\n",
       "      <td>0</td>\n",
       "      <td>0</td>\n",
       "      <td>0</td>\n",
       "      <td>0</td>\n",
       "      <td>0</td>\n",
       "      <td>0</td>\n",
       "      <td>0</td>\n",
       "      <td>0</td>\n",
       "      <td>0</td>\n",
       "    </tr>\n",
       "    <tr>\n",
       "      <th>2</th>\n",
       "      <td>6</td>\n",
       "      <td>0</td>\n",
       "      <td>0</td>\n",
       "      <td>0</td>\n",
       "      <td>0</td>\n",
       "      <td>0</td>\n",
       "      <td>0</td>\n",
       "      <td>0</td>\n",
       "      <td>5</td>\n",
       "      <td>0</td>\n",
       "      <td>...</td>\n",
       "      <td>0</td>\n",
       "      <td>0</td>\n",
       "      <td>0</td>\n",
       "      <td>30</td>\n",
       "      <td>43</td>\n",
       "      <td>0</td>\n",
       "      <td>0</td>\n",
       "      <td>0</td>\n",
       "      <td>0</td>\n",
       "      <td>0</td>\n",
       "    </tr>\n",
       "    <tr>\n",
       "      <th>3</th>\n",
       "      <td>0</td>\n",
       "      <td>0</td>\n",
       "      <td>0</td>\n",
       "      <td>0</td>\n",
       "      <td>1</td>\n",
       "      <td>2</td>\n",
       "      <td>0</td>\n",
       "      <td>0</td>\n",
       "      <td>0</td>\n",
       "      <td>0</td>\n",
       "      <td>...</td>\n",
       "      <td>3</td>\n",
       "      <td>0</td>\n",
       "      <td>0</td>\n",
       "      <td>0</td>\n",
       "      <td>0</td>\n",
       "      <td>1</td>\n",
       "      <td>0</td>\n",
       "      <td>0</td>\n",
       "      <td>0</td>\n",
       "      <td>0</td>\n",
       "    </tr>\n",
       "    <tr>\n",
       "      <th>4</th>\n",
       "      <td>3</td>\n",
       "      <td>0</td>\n",
       "      <td>0</td>\n",
       "      <td>0</td>\n",
       "      <td>0</td>\n",
       "      <td>0</td>\n",
       "      <td>0</td>\n",
       "      <td>0</td>\n",
       "      <td>0</td>\n",
       "      <td>0</td>\n",
       "      <td>...</td>\n",
       "      <td>0</td>\n",
       "      <td>0</td>\n",
       "      <td>0</td>\n",
       "      <td>0</td>\n",
       "      <td>0</td>\n",
       "      <td>0</td>\n",
       "      <td>0</td>\n",
       "      <td>0</td>\n",
       "      <td>0</td>\n",
       "      <td>0</td>\n",
       "    </tr>\n",
       "  </tbody>\n",
       "</table>\n",
       "<p>5 rows × 785 columns</p>\n",
       "</div>"
      ],
      "text/plain": [
       "   label  pixel1  pixel2  pixel3  pixel4  pixel5  pixel6  pixel7  pixel8  \\\n",
       "0      2       0       0       0       0       0       0       0       0   \n",
       "1      9       0       0       0       0       0       0       0       0   \n",
       "2      6       0       0       0       0       0       0       0       5   \n",
       "3      0       0       0       0       1       2       0       0       0   \n",
       "4      3       0       0       0       0       0       0       0       0   \n",
       "\n",
       "   pixel9  ...  pixel775  pixel776  pixel777  pixel778  pixel779  pixel780  \\\n",
       "0       0  ...         0         0         0         0         0         0   \n",
       "1       0  ...         0         0         0         0         0         0   \n",
       "2       0  ...         0         0         0        30        43         0   \n",
       "3       0  ...         3         0         0         0         0         1   \n",
       "4       0  ...         0         0         0         0         0         0   \n",
       "\n",
       "   pixel781  pixel782  pixel783  pixel784  \n",
       "0         0         0         0         0  \n",
       "1         0         0         0         0  \n",
       "2         0         0         0         0  \n",
       "3         0         0         0         0  \n",
       "4         0         0         0         0  \n",
       "\n",
       "[5 rows x 785 columns]"
      ]
     },
     "execution_count": 2,
     "metadata": {},
     "output_type": "execute_result"
    }
   ],
   "source": [
    "image_label = pd.read_csv(\"data/fashion-mnist_train.csv\")\n",
    "image_label.head()"
   ]
  },
  {
   "cell_type": "markdown",
   "metadata": {},
   "source": [
    "#### Create Custom Dataset"
   ]
  },
  {
   "cell_type": "code",
   "execution_count": 3,
   "metadata": {},
   "outputs": [],
   "source": [
    "class FasionMNISTDataset(Dataset):\n",
    "    def __init__(self, annotations_file):\n",
    "        img_labels = pd.read_csv(annotations_file)\n",
    "        tensors = torch.tensor([img_labels.iloc[i] for i in range(len(img_labels))])\n",
    "        self.images = tensors[:,1:]\n",
    "        self.labels = tensors[:,0]\n",
    "    \n",
    "    def __len__(self):\n",
    "        return len(self.labels)\n",
    "    \n",
    "    def __getitem__(self, idx):\n",
    "        return self.images[idx], self.labels[idx]"
   ]
  },
  {
   "cell_type": "code",
   "execution_count": 4,
   "metadata": {},
   "outputs": [],
   "source": [
    "# Datasets\n",
    "X_train = FasionMNISTDataset(\"data/fashion-mnist_train.csv\")\n",
    "X_test = FasionMNISTDataset(\"data/fashion-mnist_test.csv\")\n",
    "# DataLoader\n",
    "train_dataloader = DataLoader(X_train, batch_size=64, shuffle=True)\n",
    "test_dataloader = DataLoader(X_test, batch_size=64, shuffle=False)"
   ]
  },
  {
   "cell_type": "markdown",
   "metadata": {},
   "source": [
    "#### Visualize dataset"
   ]
  },
  {
   "cell_type": "code",
   "execution_count": 5,
   "metadata": {},
   "outputs": [
    {
     "data": {
      "image/png": "[encoded data removed]",
      "text/plain": [
       "<Figure size 576x576 with 9 Axes>"
      ]
     },
     "metadata": {
      "needs_background": "light"
     },
     "output_type": "display_data"
    }
   ],
   "source": [
    "labels_map = {\n",
    "    0: \"T-Shirt\",\n",
    "    1: \"Trouser\",\n",
    "    2: \"Pullover\",\n",
    "    3: \"Dress\",\n",
    "    4: \"Coat\",\n",
    "    5: \"Sandal\",\n",
    "    6: \"Shirt\",\n",
    "    7: \"Sneaker\",\n",
    "    8: \"Bag\",\n",
    "    9: \"Ankle Boot\",\n",
    "}\n",
    "figure = plt.figure(figsize=(8, 8))\n",
    "cols, rows = 3, 3\n",
    "\n",
    "for i in range(1, cols*rows+1):\n",
    "    sample_idx = torch.randint(len(X_train), size=(1,)).item()\n",
    "    img, label = X_train.images[sample_idx], X_train.labels[sample_idx].item()\n",
    "    figure.add_subplot(rows, cols, i)\n",
    "    plt.title(labels_map[label])\n",
    "    plt.axis('off')\n",
    "    plt.imshow(img.reshape(28,28), cmap='gray')\n",
    "plt.show()"
   ]
  },
  {
   "cell_type": "markdown",
   "metadata": {},
   "source": [
    "#### Define Model"
   ]
  },
  {
   "cell_type": "code",
   "execution_count": 32,
   "metadata": {},
   "outputs": [],
   "source": [
    "class FashionMNISTClassifier(nn.Module):\n",
    "    def __init__(self, input_size, hidden_size, n_classes):\n",
    "        super(FashionMNISTClassifier, self).__init__()\n",
    "        self.batchnorm = nn.BatchNorm1d(784)\n",
    "        self.linear_layer_1 = nn.Linear(input_size, hidden_size)\n",
    "        self.relu = nn.ReLU()\n",
    "        self.linear_layer_2 = nn.Linear(hidden_size, n_classes)\n",
    "        self.softmax = nn.Softmax(dim=1)\n",
    "                \n",
    "    def forward(self, X):\n",
    "        out = self.batchnorm(X)\n",
    "        out = self.linear_layer_1(out)\n",
    "        out = self.relu(out)\n",
    "        out = self.linear_layer_2(out)\n",
    "        out = self.softmax(out)\n",
    "        return out\n",
    "    \n",
    "# Hyperparaters to build model\n",
    "input_size = 784\n",
    "hidden_size = 256\n",
    "num_classes = 10\n",
    "\n",
    "fashion_mnist_classifier = FashionMNISTClassifier(input_size, hidden_size, num_classes).to(device)"
   ]
  },
  {
   "cell_type": "code",
   "execution_count": 33,
   "metadata": {},
   "outputs": [
    {
     "name": "stdout",
     "output_type": "stream",
     "text": [
      "----------------------------------------------------------------\n",
      "        Layer (type)               Output Shape         Param #\n",
      "================================================================\n",
      "       BatchNorm1d-1                  [-1, 784]           1,568\n",
      "            Linear-2                  [-1, 256]         200,960\n",
      "              ReLU-3                  [-1, 256]               0\n",
      "            Linear-4                   [-1, 10]           2,570\n",
      "           Softmax-5                   [-1, 10]               0\n",
      "================================================================\n",
      "Total params: 205,098\n",
      "Trainable params: 205,098\n",
      "Non-trainable params: 0\n",
      "----------------------------------------------------------------\n",
      "Input size (MB): 0.00\n",
      "Forward/backward pass size (MB): 0.01\n",
      "Params size (MB): 0.78\n",
      "Estimated Total Size (MB): 0.80\n",
      "----------------------------------------------------------------\n"
     ]
    }
   ],
   "source": [
    "torchsummary.summary(fashion_mnist_classifier,  input_size=(784,))"
   ]
  },
  {
   "cell_type": "code",
   "execution_count": 35,
   "metadata": {},
   "outputs": [
    {
     "name": "stdout",
     "output_type": "stream",
     "text": [
      "Epoch: 1-------------------------------\n",
      "train_accuracy: 86.2%, train_loss: 1.554047\n",
      "val_accuracy: 86.4%, val_loss: 1.597390\n",
      "Epoch: 2-------------------------------\n",
      "train_accuracy: 86.9%, train_loss: 1.587477\n",
      "val_accuracy: 86.6%, val_loss: 1.594851\n",
      "Epoch: 3-------------------------------\n",
      "train_accuracy: 87.3%, train_loss: 1.597330\n",
      "val_accuracy: 86.3%, val_loss: 1.597001\n",
      "Epoch: 4-------------------------------\n",
      "train_accuracy: 87.5%, train_loss: 1.562958\n",
      "val_accuracy: 87.1%, val_loss: 1.589691\n",
      "Epoch: 5-------------------------------\n",
      "train_accuracy: 88.1%, train_loss: 1.523669\n",
      "val_accuracy: 86.9%, val_loss: 1.591701\n",
      "Epoch: 6-------------------------------\n",
      "train_accuracy: 88.0%, train_loss: 1.630868\n",
      "val_accuracy: 87.2%, val_loss: 1.588289\n",
      "Epoch: 7-------------------------------\n",
      "train_accuracy: 88.3%, train_loss: 1.635448\n",
      "val_accuracy: 86.6%, val_loss: 1.594351\n",
      "Epoch: 8-------------------------------\n",
      "train_accuracy: 88.8%, train_loss: 1.668996\n",
      "val_accuracy: 87.6%, val_loss: 1.585103\n",
      "Epoch: 9-------------------------------\n",
      "train_accuracy: 89.0%, train_loss: 1.522978\n",
      "val_accuracy: 87.6%, val_loss: 1.583819\n",
      "Epoch: 10-------------------------------\n",
      "train_accuracy: 88.9%, train_loss: 1.578173\n",
      "val_accuracy: 88.0%, val_loss: 1.580788\n",
      "Epoch: 11-------------------------------\n",
      "train_accuracy: 89.1%, train_loss: 1.554893\n",
      "val_accuracy: 87.7%, val_loss: 1.583701\n",
      "Epoch: 12-------------------------------\n",
      "train_accuracy: 89.3%, train_loss: 1.679251\n",
      "val_accuracy: 87.8%, val_loss: 1.584005\n",
      "Epoch: 13-------------------------------\n",
      "train_accuracy: 89.4%, train_loss: 1.554715\n",
      "val_accuracy: 87.9%, val_loss: 1.581782\n",
      "Epoch: 14-------------------------------\n",
      "train_accuracy: 89.4%, train_loss: 1.567355\n",
      "val_accuracy: 87.6%, val_loss: 1.584635\n",
      "Epoch: 15-------------------------------\n",
      "train_accuracy: 89.5%, train_loss: 1.588294\n",
      "val_accuracy: 87.6%, val_loss: 1.584479\n",
      "Epoch: 16-------------------------------\n",
      "train_accuracy: 89.6%, train_loss: 1.525548\n",
      "val_accuracy: 88.1%, val_loss: 1.580037\n",
      "Epoch: 17-------------------------------\n",
      "train_accuracy: 89.8%, train_loss: 1.523754\n",
      "val_accuracy: 88.3%, val_loss: 1.578185\n",
      "Epoch: 18-------------------------------\n",
      "train_accuracy: 89.9%, train_loss: 1.492450\n",
      "val_accuracy: 88.6%, val_loss: 1.574839\n",
      "Epoch: 19-------------------------------\n",
      "train_accuracy: 90.0%, train_loss: 1.589306\n",
      "val_accuracy: 88.8%, val_loss: 1.571775\n",
      "Epoch: 20-------------------------------\n",
      "train_accuracy: 90.3%, train_loss: 1.511528\n",
      "val_accuracy: 87.4%, val_loss: 1.587174\n",
      "Epoch: 21-------------------------------\n",
      "train_accuracy: 90.3%, train_loss: 1.597651\n",
      "val_accuracy: 88.3%, val_loss: 1.577738\n",
      "Epoch: 22-------------------------------\n",
      "train_accuracy: 90.3%, train_loss: 1.495481\n",
      "val_accuracy: 87.6%, val_loss: 1.583652\n",
      "Epoch: 23-------------------------------\n",
      "train_accuracy: 90.5%, train_loss: 1.523268\n",
      "val_accuracy: 88.5%, val_loss: 1.575498\n",
      "Epoch: 24-------------------------------\n",
      "train_accuracy: 90.5%, train_loss: 1.594051\n",
      "val_accuracy: 88.4%, val_loss: 1.576247\n",
      "Epoch: 25-------------------------------\n",
      "train_accuracy: 90.5%, train_loss: 1.558178\n",
      "val_accuracy: 88.6%, val_loss: 1.573806\n",
      "Epoch: 26-------------------------------\n",
      "train_accuracy: 90.4%, train_loss: 1.520586\n",
      "val_accuracy: 88.6%, val_loss: 1.575920\n",
      "Epoch: 27-------------------------------\n",
      "train_accuracy: 90.7%, train_loss: 1.557092\n",
      "val_accuracy: 88.4%, val_loss: 1.575735\n",
      "Epoch: 28-------------------------------\n",
      "train_accuracy: 90.7%, train_loss: 1.586125\n",
      "val_accuracy: 88.6%, val_loss: 1.574966\n",
      "Epoch: 29-------------------------------\n",
      "train_accuracy: 90.7%, train_loss: 1.507414\n",
      "val_accuracy: 88.6%, val_loss: 1.574811\n",
      "Epoch: 30-------------------------------\n",
      "train_accuracy: 91.0%, train_loss: 1.563660\n",
      "val_accuracy: 88.8%, val_loss: 1.572324\n",
      "Done!\n"
     ]
    }
   ],
   "source": [
    "# Loss and optimizer\n",
    "loss_fn = nn.CrossEntropyLoss()\n",
    "optimizer = torch.optim.Adam(fashion_mnist_classifier.parameters())\n",
    "\n",
    "def train_loop(dataloader, model, loss_fn, optimizer):\n",
    "    size = len(dataloader.dataset)\n",
    "    n_correct, loss = 0, 0.0\n",
    "    for images, labels in dataloader:\n",
    "        images = images.type(torch.FloatTensor)\n",
    "        images = images.to(device)\n",
    "        labels = labels.to(device)      \n",
    "        pred_labels = model(images)\n",
    "        loss = loss_fn(pred_labels, labels)      \n",
    "        # Backprpagation\n",
    "        optimizer.zero_grad()\n",
    "        loss.backward()\n",
    "        optimizer.step()\n",
    "        loss = loss.item()\n",
    "        n_correct += (pred_labels.argmax(dim=1) == labels).sum().item()\n",
    "    accuracy = 100*n_correct/size\n",
    "    print(f\"train_accuracy: {accuracy:>0.1f}%, train_loss: {loss:>8f}\") \n",
    "    return accuracy, loss\n",
    "            \n",
    "def validation_loop(dataloader, model, loss_fn):\n",
    "    size = len(dataloader.dataset)\n",
    "    num_batches = len(dataloader)\n",
    "    val_loss, n_correct = 0.0, 0\n",
    "    with torch.no_grad():\n",
    "        for images, labels in dataloader:\n",
    "            images = images.type(torch.FloatTensor)\n",
    "            images = images.to(device)\n",
    "            labels = labels.to(device)\n",
    "            pred_labels = model(images)\n",
    "            val_loss += loss_fn(pred_labels, labels).item()\n",
    "            n_correct += (pred_labels.argmax(dim=1) == labels).sum().item()\n",
    "    val_loss /= num_batches\n",
    "    val_accuracy = 100*n_correct/size\n",
    "    print(f\"val_accuracy: {val_accuracy:>0.1f}%, val_loss: {val_loss:>8f}\")            \n",
    "    \n",
    "            \n",
    "epochs = 30      \n",
    "for t in range(epochs):\n",
    "    print(f\"Epoch: {t+1}-------------------------------\")\n",
    "    train_loop(train_dataloader, fashion_mnist_classifier, loss_fn, optimizer)\n",
    "    validation_loop(test_dataloader, fashion_mnist_classifier, loss_fn)\n",
    "print(\"Done!\")"
   ]
  },
  {
   "cell_type": "code",
   "execution_count": 18,
   "metadata": {},
   "outputs": [],
   "source": [
    "x = iter(test_dataloader)"
   ]
  },
  {
   "cell_type": "code",
   "execution_count": 19,
   "metadata": {},
   "outputs": [
    {
     "name": "stdout",
     "output_type": "stream",
     "text": [
      "torch.Size([64, 784])\n",
      "torch.Size([64])\n"
     ]
    }
   ],
   "source": [
    "img, label = x.next()\n",
    "print(img.shape)\n",
    "print(label.shape)"
   ]
  },
  {
   "cell_type": "code",
   "execution_count": 27,
   "metadata": {},
   "outputs": [
    {
     "data": {
      "text/plain": [
       "'Pullover'"
      ]
     },
     "execution_count": 27,
     "metadata": {},
     "output_type": "execute_result"
    },
    {
     "data": {
      "image/png": "[encoded data removed]",
      "text/plain": [
       "<Figure size 432x288 with 1 Axes>"
      ]
     },
     "metadata": {
      "needs_background": "light"
     },
     "output_type": "display_data"
    }
   ],
   "source": [
    "img = img.type(torch.FloatTensor)\n",
    "plt.imshow(img[50].reshape(28,28), cmap='gray')\n",
    "labels_map[label[50].item()]"
   ]
  },
  {
   "cell_type": "code",
   "execution_count": 24,
   "metadata": {},
   "outputs": [
    {
     "data": {
      "text/plain": [
       "0"
      ]
     },
     "execution_count": 24,
     "metadata": {},
     "output_type": "execute_result"
    }
   ],
   "source": [
    "label[0].item()"
   ]
  },
  {
   "cell_type": "code",
   "execution_count": null,
   "metadata": {},
   "outputs": [],
   "source": []
  }
 ],
 "metadata": {
  "kernelspec": {
   "display_name": "Python 3",
   "language": "python",
   "name": "python3"
  },
  "language_info": {
   "codemirror_mode": {
    "name": "ipython",
    "version": 3
   },
   "file_extension": ".py",
   "mimetype": "text/x-python",
   "name": "python",
   "nbconvert_exporter": "python",
   "pygments_lexer": "ipython3",
   "version": "3.8.5"
  }
 },
 "nbformat": 4,
 "nbformat_minor": 4
}
