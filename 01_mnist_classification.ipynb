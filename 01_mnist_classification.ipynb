{
 "cells": [
  {
   "cell_type": "markdown",
   "metadata": {},
   "source": [
    "## Mnist Classification"
   ]
  },
  {
   "cell_type": "code",
   "execution_count": 1,
   "metadata": {},
   "outputs": [],
   "source": [
    "import torch\n",
    "import torchvision\n",
    "import torch.nn as nn\n",
    "import torchsummary\n",
    "from torch.utils.tensorboard import SummaryWriter\n",
    "import matplotlib.pyplot as plt\n",
    "import os\n",
    "os.environ['KMP_DUPLICATE_LIB_OK']='True'\n",
    "\n",
    "# if GPU is available use GPU\n",
    "device = torch.device('cuda' if torch.cuda.is_available() else 'cpu')"
   ]
  },
  {
   "cell_type": "markdown",
   "metadata": {},
   "source": [
    "### Load Datasets"
   ]
  },
  {
   "cell_type": "code",
   "execution_count": 2,
   "metadata": {},
   "outputs": [
    {
     "name": "stdout",
     "output_type": "stream",
     "text": [
      "Number of train samples: 60000\n",
      "Number of test samples: 10000\n"
     ]
    },
    {
     "name": "stderr",
     "output_type": "stream",
     "text": [
      "C:\\Users\\shres\\anaconda3\\lib\\site-packages\\torchvision\\datasets\\mnist.py:498: UserWarning: The given NumPy array is not writeable, and PyTorch does not support non-writeable tensors. This means you can write to the underlying (supposedly non-writeable) NumPy array using the tensor. You may want to copy the array to protect its data or make it writeable before converting it to a tensor. This type of warning will be suppressed for the rest of this program. (Triggered internally at  ..\\torch\\csrc\\utils\\tensor_numpy.cpp:180.)\n",
      "  return torch.from_numpy(parsed.astype(m[2], copy=False)).view(*s)\n"
     ]
    }
   ],
   "source": [
    "train_dataset = torchvision.datasets.MNIST(root=\"./data\",\n",
    "                                         train=True,\n",
    "                                         transform=torchvision.transforms.ToTensor(),\n",
    "                                         download=True,\n",
    "                                         )\n",
    "test_dataset = torchvision.datasets.MNIST(root=\"./data\",\n",
    "                                         train=False,\n",
    "                                         transform=torchvision.transforms.ToTensor(),\n",
    "                                         download=True)\n",
    "\n",
    "train_dataloader = torch.utils.data.DataLoader(dataset=train_dataset,\n",
    "                                              batch_size=64,\n",
    "                                              shuffle=True)\n",
    "test_dataloader = torch.utils.data.DataLoader(dataset=test_dataset,\n",
    "                                              batch_size=64,\n",
    "                                              shuffle=True)\n",
    "\n",
    "print(f'Number of train samples: {len(train_dataset)}')\n",
    "print(f'Number of test samples: {len(test_dataset)}')"
   ]
  },
  {
   "cell_type": "markdown",
   "metadata": {},
   "source": [
    "### Iterating and visualizing the dataset"
   ]
  },
  {
   "cell_type": "code",
   "execution_count": 3,
   "metadata": {},
   "outputs": [
    {
     "data": {
      "image/png": "[encoded data removed]",
      "text/plain": [
       "<Figure size 864x864 with 12 Axes>"
      ]
     },
     "metadata": {
      "needs_background": "light"
     },
     "output_type": "display_data"
    }
   ],
   "source": [
    "figure = plt.figure(figsize=(12,12))\n",
    "n_rows, n_cols = 3, 4\n",
    "\n",
    "for i in range(1, n_rows*n_cols + 1):\n",
    "    # choose a samle index randomly\n",
    "    sample_idx = torch.randint(len(train_dataset), size=(1,)).item()\n",
    "    image, label = train_dataset[sample_idx]\n",
    "    figure.add_subplot(n_rows, n_cols, i)\n",
    "    plt.title(label)\n",
    "    plt.imshow(image.squeeze(), cmap='gray')\n",
    "    plt.axis('off')\n",
    "plt.show()\n",
    "    "
   ]
  },
  {
   "cell_type": "markdown",
   "metadata": {},
   "source": [
    "### Define a Model"
   ]
  },
  {
   "cell_type": "code",
   "execution_count": 4,
   "metadata": {},
   "outputs": [],
   "source": [
    "class MNISTClassifier(nn.Module):\n",
    "    def __init__(self, input_size, hidden_size, n_classes):\n",
    "        super(MNISTClassifier, self).__init__()\n",
    "        self.flatten = nn.Flatten()\n",
    "        self.linear_layer_1 = nn.Linear(input_size, hidden_size)\n",
    "        self.relu = nn.ReLU()\n",
    "        self.linear_layer_2 = nn.Linear(hidden_size, n_classes)\n",
    "        self.softmax = nn.Softmax(dim=0)\n",
    "                \n",
    "    def forward(self, X):\n",
    "        out = self.flatten(X)\n",
    "        out = self.linear_layer_1(out)\n",
    "        out = self.relu(out)\n",
    "        out = self.linear_layer_2(out)\n",
    "        out = self.softmax(out)\n",
    "        return out\n",
    "    \n",
    "# Hyperparaters to build model\n",
    "input_size = 784\n",
    "hidden_size = 256\n",
    "num_classes = 10\n",
    "\n",
    "mnist_classifier = MNISTClassifier(input_size, hidden_size, num_classes).to(device)"
   ]
  },
  {
   "cell_type": "code",
   "execution_count": 5,
   "metadata": {},
   "outputs": [
    {
     "name": "stdout",
     "output_type": "stream",
     "text": [
      "----------------------------------------------------------------\n",
      "        Layer (type)               Output Shape         Param #\n",
      "================================================================\n",
      "           Flatten-1                  [-1, 784]               0\n",
      "            Linear-2                  [-1, 256]         200,960\n",
      "              ReLU-3                  [-1, 256]               0\n",
      "            Linear-4                   [-1, 10]           2,570\n",
      "           Softmax-5                   [-1, 10]               0\n",
      "================================================================\n",
      "Total params: 203,530\n",
      "Trainable params: 203,530\n",
      "Non-trainable params: 0\n",
      "----------------------------------------------------------------\n",
      "Input size (MB): 0.00\n",
      "Forward/backward pass size (MB): 0.01\n",
      "Params size (MB): 0.78\n",
      "Estimated Total Size (MB): 0.79\n",
      "----------------------------------------------------------------\n"
     ]
    }
   ],
   "source": [
    "# summary of the model\n",
    "\n",
    "torchsummary.summary(mnist_classifier, input_size=(784,))"
   ]
  },
  {
   "cell_type": "code",
   "execution_count": 6,
   "metadata": {},
   "outputs": [],
   "source": [
    "# plot the model with tensorboard\n",
    "dataiter = iter(train_dataloader)\n",
    "image, label = dataiter.next()\n",
    "\n",
    "writer = SummaryWriter()\n",
    "writer.add_graph(mnist_classifier, image)\n",
    "writer.close()"
   ]
  },
  {
   "cell_type": "markdown",
   "metadata": {},
   "source": [
    "<img src='img/model_grph.png'/>"
   ]
  },
  {
   "cell_type": "markdown",
   "metadata": {},
   "source": [
    "### Train the Model"
   ]
  },
  {
   "cell_type": "code",
   "execution_count": 7,
   "metadata": {},
   "outputs": [
    {
     "name": "stdout",
     "output_type": "stream",
     "text": [
      "Epoch: 1-------------------------------\n",
      "train_accuracy: 79.7%, train_loss: 2.033302\n",
      "val_accuracy: 85.1%, val_loss: 2.166656\n",
      "Epoch: 2-------------------------------\n",
      "train_accuracy: 85.8%, train_loss: 2.051458\n",
      "val_accuracy: 88.2%, val_loss: 2.165060\n",
      "Epoch: 3-------------------------------\n",
      "train_accuracy: 89.3%, train_loss: 2.045249\n",
      "val_accuracy: 90.8%, val_loss: 2.165260\n",
      "Epoch: 4-------------------------------\n",
      "train_accuracy: 91.2%, train_loss: 2.030185\n",
      "val_accuracy: 92.0%, val_loss: 2.164779\n",
      "Epoch: 5-------------------------------\n",
      "train_accuracy: 92.3%, train_loss: 2.032804\n",
      "val_accuracy: 93.1%, val_loss: 2.163884\n",
      "Epoch: 6-------------------------------\n",
      "train_accuracy: 93.1%, train_loss: 2.062109\n",
      "val_accuracy: 93.9%, val_loss: 2.162975\n",
      "Epoch: 7-------------------------------\n",
      "train_accuracy: 93.7%, train_loss: 2.033890\n",
      "val_accuracy: 94.2%, val_loss: 2.163278\n",
      "Epoch: 8-------------------------------\n",
      "train_accuracy: 94.2%, train_loss: 2.030335\n",
      "val_accuracy: 94.7%, val_loss: 2.163314\n",
      "Epoch: 9-------------------------------\n",
      "train_accuracy: 94.6%, train_loss: 2.032033\n",
      "val_accuracy: 94.5%, val_loss: 2.163625\n",
      "Epoch: 10-------------------------------\n",
      "train_accuracy: 95.0%, train_loss: 2.031200\n",
      "val_accuracy: 94.7%, val_loss: 2.163827\n",
      "Epoch: 11-------------------------------\n",
      "train_accuracy: 95.3%, train_loss: 2.030872\n",
      "val_accuracy: 95.2%, val_loss: 2.162676\n",
      "Epoch: 12-------------------------------\n",
      "train_accuracy: 95.4%, train_loss: 2.062059\n",
      "val_accuracy: 95.1%, val_loss: 2.162675\n",
      "Epoch: 13-------------------------------\n",
      "train_accuracy: 95.5%, train_loss: 2.028730\n",
      "val_accuracy: 95.2%, val_loss: 2.162964\n",
      "Epoch: 14-------------------------------\n",
      "train_accuracy: 95.7%, train_loss: 2.060759\n",
      "val_accuracy: 95.7%, val_loss: 2.162607\n",
      "Epoch: 15-------------------------------\n",
      "train_accuracy: 95.9%, train_loss: 2.060537\n",
      "val_accuracy: 95.9%, val_loss: 2.162316\n",
      "Epoch: 16-------------------------------\n",
      "train_accuracy: 96.1%, train_loss: 2.052996\n",
      "val_accuracy: 96.0%, val_loss: 2.163175\n",
      "Epoch: 17-------------------------------\n",
      "train_accuracy: 96.2%, train_loss: 2.061643\n",
      "val_accuracy: 96.1%, val_loss: 2.163027\n",
      "Epoch: 18-------------------------------\n",
      "train_accuracy: 96.4%, train_loss: 2.055583\n",
      "val_accuracy: 96.1%, val_loss: 2.162191\n",
      "Epoch: 19-------------------------------\n",
      "train_accuracy: 96.5%, train_loss: 2.029283\n",
      "val_accuracy: 96.2%, val_loss: 2.163030\n",
      "Epoch: 20-------------------------------\n",
      "train_accuracy: 96.5%, train_loss: 2.031194\n",
      "val_accuracy: 96.3%, val_loss: 2.162989\n",
      "Epoch: 21-------------------------------\n",
      "train_accuracy: 96.6%, train_loss: 2.062815\n",
      "val_accuracy: 96.3%, val_loss: 2.162707\n",
      "Epoch: 22-------------------------------\n",
      "train_accuracy: 96.7%, train_loss: 2.029601\n",
      "val_accuracy: 96.4%, val_loss: 2.163081\n",
      "Epoch: 23-------------------------------\n",
      "train_accuracy: 96.8%, train_loss: 2.031040\n",
      "val_accuracy: 96.5%, val_loss: 2.163517\n",
      "Epoch: 24-------------------------------\n",
      "train_accuracy: 97.0%, train_loss: 2.059230\n",
      "val_accuracy: 96.5%, val_loss: 2.162686\n",
      "Epoch: 25-------------------------------\n",
      "train_accuracy: 97.0%, train_loss: 2.058796\n",
      "val_accuracy: 96.6%, val_loss: 2.162444\n",
      "Epoch: 26-------------------------------\n",
      "train_accuracy: 97.1%, train_loss: 2.029159\n",
      "val_accuracy: 96.7%, val_loss: 2.162787\n",
      "Epoch: 27-------------------------------\n",
      "train_accuracy: 97.2%, train_loss: 2.060969\n",
      "val_accuracy: 96.8%, val_loss: 2.162447\n",
      "Epoch: 28-------------------------------\n",
      "train_accuracy: 97.3%, train_loss: 2.059614\n",
      "val_accuracy: 96.8%, val_loss: 2.162805\n",
      "Epoch: 29-------------------------------\n",
      "train_accuracy: 97.3%, train_loss: 2.027939\n",
      "val_accuracy: 96.7%, val_loss: 2.162213\n",
      "Epoch: 30-------------------------------\n",
      "train_accuracy: 97.3%, train_loss: 2.027963\n",
      "val_accuracy: 96.7%, val_loss: 2.163191\n",
      "Done!\n"
     ]
    }
   ],
   "source": [
    "# define loss and optimizer\n",
    "\n",
    "# Loss and optimizer\n",
    "loss_fn = nn.CrossEntropyLoss()\n",
    "optimizer = torch.optim.Adam(mnist_classifier.parameters())\n",
    "\n",
    "def train_loop(dataloader, model, loss_fn, optimizer):\n",
    "    size = len(dataloader.dataset)\n",
    "    n_correct, loss = 0, 0.0\n",
    "    for batch, (images, labels) in enumerate(dataloader):\n",
    "        images = images.to(device)\n",
    "        labels = labels.to(device)      \n",
    "        pred_labels = model(images)\n",
    "        loss = loss_fn(pred_labels, labels)      \n",
    "        # Backprpagation\n",
    "        optimizer.zero_grad()\n",
    "        loss.backward()\n",
    "        optimizer.step()\n",
    "        loss = loss.item()\n",
    "        n_correct += (pred_labels.argmax(dim=1) == labels).sum().item()\n",
    "    accuracy = 100*n_correct/size\n",
    "    print(f\"train_accuracy: {accuracy:>0.1f}%, train_loss: {loss:>8f}\") \n",
    "    return accuracy, loss\n",
    "            \n",
    "def validation_loop(dataloader, model, loss_fn):\n",
    "    size = len(dataloader.dataset)\n",
    "    num_batches = len(dataloader)\n",
    "    val_loss, n_correct = 0, 0\n",
    "    with torch.no_grad():\n",
    "        for images, labels in dataloader:\n",
    "            images = images.to(device)\n",
    "            labels = labels.to(device)\n",
    "            pred_labels = model(images)\n",
    "            val_loss += loss_fn(pred_labels, labels).item()\n",
    "            n_correct += (pred_labels.argmax(dim=1) == labels).sum().item()\n",
    "    val_loss /= num_batches\n",
    "    val_accuracy = 100*n_correct/size\n",
    "    print(f\"val_accuracy: {val_accuracy:>0.1f}%, val_loss: {val_loss:>8f}\")\n",
    "    return val_accuracy, val_loss\n",
    "            \n",
    "    \n",
    "            \n",
    "epochs = 30          \n",
    "for t in range(epochs):\n",
    "    print(f\"Epoch: {t+1}-------------------------------\")\n",
    "    train_acc, train_loss = train_loop(train_dataloader, mnist_classifier, loss_fn, optimizer)\n",
    "    # for tensorboard \n",
    "    writer.add_scalar('train/accuracy', train_acc, t)\n",
    "    writer.add_scalar('train/loss', train_loss, t)\n",
    "    \n",
    "    val_acc, val_loss = validation_loop(test_dataloader, mnist_classifier, loss_fn)\n",
    "    # for tensorboard\n",
    "    writer.add_scalar('val/accuracy', val_acc, t)\n",
    "    writer.add_scalar('val/loss', val_loss, t)\n",
    "print(\"Done!\")"
   ]
  },
  {
   "cell_type": "markdown",
   "metadata": {},
   "source": [
    "### Plot Accuracy, Loss over epochs"
   ]
  },
  {
   "cell_type": "markdown",
   "metadata": {},
   "source": [
    "<img src='img/plot.png'/>"
   ]
  },
  {
   "cell_type": "code",
   "execution_count": null,
   "metadata": {},
   "outputs": [],
   "source": []
  }
 ],
 "metadata": {
  "kernelspec": {
   "display_name": "Python 3",
   "language": "python",
   "name": "python3"
  },
  "language_info": {
   "codemirror_mode": {
    "name": "ipython",
    "version": 3
   },
   "file_extension": ".py",
   "mimetype": "text/x-python",
   "name": "python",
   "nbconvert_exporter": "python",
   "pygments_lexer": "ipython3",
   "version": "3.8.5"
  }
 },
 "nbformat": 4,
 "nbformat_minor": 4
}
